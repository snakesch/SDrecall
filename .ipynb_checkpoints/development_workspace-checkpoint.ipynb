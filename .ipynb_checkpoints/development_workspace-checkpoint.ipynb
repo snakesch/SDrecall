{
 "cells": [
  {
   "cell_type": "markdown",
   "id": "42cae016-ea9f-4d40-859d-1fc93a884bda",
   "metadata": {},
   "source": [
    "\n",
    "**I/O handling**\n",
    "- [x] Input: BAM with no duplicated alignments\n",
    "- [x] Output: VCFv4.2 (Check if any VCF already exists)\n",
    "\n",
    "**Prepare PC coordinates based on reference SD map from WGAC**\n",
    "- [ ] Compute fragment size distribution\n",
    "- [ ] Pick multi-aligned regions (within target regions) and return as BED\n",
    "- [ ] \n",
    "\n",
    "**Misc**\n",
    "- [ ] Thread usage: 4 (non-wgs) or 8 (wgs)\n",
    "\n"
   ]
  },
  {
   "cell_type": "code",
   "execution_count": 2,
   "id": "3490303b-e435-4925-a587-c222fbdda0e1",
   "metadata": {
    "tags": []
   },
   "outputs": [],
   "source": [
    "import pysam\n",
    "from utils import *\n",
    "import os\n",
    "import pandas as pd\n",
    "import numpy as np"
   ]
  },
  {
   "cell_type": "code",
   "execution_count": 3,
   "id": "5f396926-d3b9-44be-9d07-7d63ab3a5454",
   "metadata": {
    "tags": []
   },
   "outputs": [],
   "source": [
    "bamfp = \"/home/louisshe/SDrecall/data/test_bqsr_bam/HG002.bqsr.bam\"\n",
    "\n",
    "os.chdir(\"/home/louisshe/work/SDrecall/\")"
   ]
  },
  {
   "cell_type": "code",
   "execution_count": 4,
   "id": "4cda1415-b945-4366-836a-b207647e3442",
   "metadata": {
    "tags": []
   },
   "outputs": [],
   "source": [
    "# Exclude duplicate alignments in BAM\n",
    "bamf = pysam.AlignmentFile(bamfp, \"rb\")\n",
    "\n",
    "for alignment in bamf:\n",
    "    assert not alignment.is_duplicate, \"Duplicate alignments found in BAM file. Abort.\"\n",
    "    \n",
    "bamf.close()\n",
    "\n",
    "# Assign output VCF name\n",
    "vcf_out_fn = os.path.basename(bamfp).split(\".\")[0] + \".homo_region.filtered.vcf\""
   ]
  },
  {
   "cell_type": "code",
   "execution_count": 1,
   "id": "1641ca69-5c14-4823-af98-916cdd0bea19",
   "metadata": {
    "tags": []
   },
   "outputs": [],
   "source": [
    "import pybedtools\n",
    "pybedtools.set_bedtools_path(\"/software/bedtools/2.30.0/bin\")\n",
    "\n",
    "bed_obj = pybedtools.BedTool(\"/paedyl01/disk1/louisshe/ref/dmd_modifiers_coord.bed\").sort().merge().as_intervalfile()"
   ]
  },
  {
   "cell_type": "code",
   "execution_count": 45,
   "id": "0ccd9fe2-a8e4-4759-8dc3-2c0e71bdf879",
   "metadata": {
    "jupyter": {
     "source_hidden": true
    },
    "tags": []
   },
   "outputs": [],
   "source": [
    "def read_evaluator(read, filter_tags, filter_logic, min_mapq):\n",
    "    '''\n",
    "    This function retrieves query names of valid reads.\n",
    "    '''\n",
    "    assert isinstance(filter_tags, list), f\"Filter tags must be a list of strings. ({filter_tags})\"\n",
    "    \n",
    "    filter_pass = True\n",
    "    \n",
    "    # Retrieve alignments with filter e.g. XA\n",
    "    if len(filter_tags) > 0:\n",
    "        if filter_logic == \"or\":\n",
    "            filter_pass = any([read.has_tag(tag) for tag in filter_tags])\n",
    "        elif filter_logic == \"and\":\n",
    "            filter_pass = all([read.has_tag(tag) for tag in filter_tags])\n",
    "        elif filter_logic == \"not\":\n",
    "            filter_pass = not any([read.has_tag(tag) for tag in filter_tags])\n",
    "        else:\n",
    "            logger.warning(f\"Unsupported filter logic ({filter_logic}). Omitting filter ... \")\n",
    "    \n",
    "    # Assign filter_pass as True if no filter is imposed\n",
    "    filter_pass = filter_pass and True\n",
    "\n",
    "    # Select good reads\n",
    "    candidate_reads = not (read.is_duplicate or read.is_unmapped or read.is_secondary or read.is_supplementary or read.is_qcfail or read.mapping_quality >= min_mapq) and filter_pass\n",
    "    \n",
    "    if not candidate_reads:\n",
    "        return\n",
    "    \n",
    "    chrom, start, end = read.reference_name, read.reference_start, read.reference_end\n",
    "    \n",
    "    if not read.mate_is_unmapped and read.is_proper_pair:\n",
    "        # Process each read once only\n",
    "        if read.is_read1:\n",
    "            # mate is present on the same contig\n",
    "            if read.next_reference_name == chrom:\n",
    "                # Per pysam API, next_reference_end is not available\n",
    "                return (chrom, min(start, read.next_reference_start), max(end, read.next_reference_start + 150), read.query_name)\n",
    "            else:\n",
    "                return (chrom, start, end, read.query_name)\n",
    "    elif not read.is_proper_pair and read.is_paired:\n",
    "        return (chrom, start, end, read.query_name)\n",
    "    elif not read.is_paired:\n",
    "        return (chrom, start, end, read.query_name)\n",
    "    \n",
    "\n",
    "def calculate_inferred_coverage(bam_file, min_mapq = 10, \n",
    "                               filter_tags = [], filter_logic = \"and\",\n",
    "                               genome_file = \"ucsc.hg19.contigsize.genome\",\n",
    "                               target_region = \"\"):\n",
    "    import pybedtools as pb\n",
    "    import pysam\n",
    "    \n",
    "    '''\n",
    "    This function is intended for identification of candidate realignment regions where template length >> 300bp.\n",
    "    \n",
    "    Some expected inputs: \n",
    "    filter_tags: a list of tags to search\n",
    "    filter_logic: i. and: match all filter tags\n",
    "                 ii.  or: match any one filter tags\n",
    "                iii. not: not match any filter tags\n",
    "    genome_file: provided, do not change\n",
    "    target_region: BED file path of regions of interest\n",
    "    '''\n",
    "    \n",
    "    assert os.path.isfile(genome_file), \"Invalid genome file provided. \"\n",
    "    \n",
    "    # Load regions of interest if provided\n",
    "    bamfp = pysam.AlignmentFile(bam_file, \"rb\")\n",
    "    \n",
    "    candidate_regions = []\n",
    "    \n",
    "    # Case: Valid regions provided\n",
    "    if os.path.isfile(target_region):\n",
    "        bed_obj = pb.BedTool(target_region).sort().merge().as_intervalfile()\n",
    "        next_interval = next(bed_obj)\n",
    "        try:\n",
    "            while next_interval:\n",
    "                for read in bamfp.fetch(next_interval.chrom, next_interval.start, next_interval.end):\n",
    "                    candidate_region = read_evaluator(read, filter_tags, filter_logic, min_mapq)\n",
    "                    if candidate_region != None:\n",
    "                        candidate_regions.append(candidate_region)\n",
    "                next_interval = next(bed_obj)\n",
    "        except StopIteration:\n",
    "            pass\n",
    "    # Case: No region specified\n",
    "    else:\n",
    "        for read in bamfp.fetch():\n",
    "            candidate_region = read_evaluator(read, filter_tags, filter_logic, min_mapq)\n",
    "            if candidate_region != None:\n",
    "                candidate_regions.append(candidate_region)\n",
    "    \n",
    "    # Acquire base coverage statistics\n",
    "    candidate_regions = list(set(candidate_regions))\n",
    "    genome_coverage = pb.BedTool(candidate_regions).sort().genome_coverage(bg=True, g = genome_file)\n",
    "    base_coverages = []\n",
    "    for interval in genome_coverage:\n",
    "        bases = [(interval.chrom, i, interval.name) for i in range(interval.start, interval.end+1, 1)]\n",
    "        base_coverages.append(pd.DataFrame.from_records(bases))\n",
    "    return pd.concat(base_coverages)\n",
    "    \n",
    "ret = calculate_inferred_coverage(bamfp, filter_tags = [\"XA\"], filter_logic = \"not\", genome_file=\"work/SDrecall/ucsc.hg19.contigsize.genome\")"
   ]
  },
  {
   "cell_type": "code",
   "execution_count": 9,
   "id": "92b02f49-ce5d-45bd-85bd-0538e8e9d784",
   "metadata": {
    "tags": []
   },
   "outputs": [
    {
     "ename": "UnboundLocalError",
     "evalue": "cannot access local variable 'avg_insert_size' where it is not associated with a value",
     "output_type": "error",
     "traceback": [
      "\u001b[0;31m---------------------------------------------------------------------------\u001b[0m",
      "\u001b[0;31mUnboundLocalError\u001b[0m                         Traceback (most recent call last)",
      "Cell \u001b[0;32mIn[9], line 3\u001b[0m\n\u001b[1;32m      1\u001b[0m \u001b[38;5;28;01mfrom\u001b[39;00m \u001b[38;5;21;01mread_properties\u001b[39;00m \u001b[38;5;28;01mimport\u001b[39;00m \u001b[38;5;241m*\u001b[39m\n\u001b[0;32m----> 3\u001b[0m get_bam_frag_size(bamfp)\n",
      "File \u001b[0;32m~/work/SDrecall/read_properties.py:16\u001b[0m, in \u001b[0;36mget_bam_frag_size\u001b[0;34m(bam_file)\u001b[0m\n\u001b[1;32m     14\u001b[0m     \u001b[38;5;28;01melif\u001b[39;00m line\u001b[38;5;241m.\u001b[39mstartswith(\u001b[38;5;124m\"\u001b[39m\u001b[38;5;124mFF\u001b[39m\u001b[38;5;124m\"\u001b[39m):\n\u001b[1;32m     15\u001b[0m         \u001b[38;5;28;01mbreak\u001b[39;00m\n\u001b[0;32m---> 16\u001b[0m \u001b[38;5;28;01mreturn\u001b[39;00m avg_insert_size, std_insert_size\n",
      "\u001b[0;31mUnboundLocalError\u001b[0m: cannot access local variable 'avg_insert_size' where it is not associated with a value"
     ]
    }
   ],
   "source": [
    "from read_properties import *\n",
    "\n",
    "get_bam_frag_size(bamfp)"
   ]
  },
  {
   "cell_type": "code",
   "execution_count": 58,
   "id": "0986658e-72a3-44b5-84f5-eeaf63079dfe",
   "metadata": {
    "tags": []
   },
   "outputs": [
    {
     "data": {
      "text/plain": [
       "'[1, 2, 3]'"
      ]
     },
     "execution_count": 58,
     "metadata": {},
     "output_type": "execute_result"
    }
   ],
   "source": [
    "test = [1, 2, 3]\n",
    "str(test)"
   ]
  }
 ],
 "metadata": {
  "kernelspec": {
   "display_name": "Python 3 (ipykernel)",
   "language": "python",
   "name": "python3"
  },
  "language_info": {
   "codemirror_mode": {
    "name": "ipython",
    "version": 3
   },
   "file_extension": ".py",
   "mimetype": "text/x-python",
   "name": "python",
   "nbconvert_exporter": "python",
   "pygments_lexer": "ipython3",
   "version": "3.11.5"
  }
 },
 "nbformat": 4,
 "nbformat_minor": 5
}

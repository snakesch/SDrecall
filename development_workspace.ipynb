{
 "cells": [
  {
   "cell_type": "code",
   "execution_count": 1,
   "id": "3490303b-e435-4925-a587-c222fbdda0e1",
   "metadata": {
    "tags": []
   },
   "outputs": [],
   "source": [
    "import pysam\n",
    "import os\n",
    "import pandas as pd\n",
    "import numpy as np\n",
    "\n",
    "import pybedtools as pb\n",
    "\n",
    "bam_file = \"/paedyl01/disk1/yangyxt/wgs/GIAB_samples/aligned_results/HG007.SD.deduped.bam\"\n",
    "\n",
    "os.chdir(\"/home/louisshe/work/SDrecall/\")\n",
    "\n",
    "pb.set_bedtools_path(\"/software/bedtools/2.30.0/bin\")"
   ]
  },
  {
   "cell_type": "markdown",
   "id": "a911601f-cc41-4ab8-b27c-970a520183b9",
   "metadata": {},
   "source": [
    "## Actual use case"
   ]
  },
  {
   "cell_type": "code",
   "execution_count": 2,
   "id": "4b2d8763-a47c-4d2c-a632-a1341ccd0da7",
   "metadata": {
    "tags": []
   },
   "outputs": [
    {
     "name": "stderr",
     "output_type": "stream",
     "text": [
      "2024-01-16 19:36:36,584 - INFO - Working dir: /home/louisshe/work/SDrecall\n"
     ]
    }
   ],
   "source": [
    "import os\n",
    "import logging\n",
    "\n",
    "from multialign import get_multialign_regions, bam_subset\n",
    "from build_sd import build_sd_pairs\n",
    "\n",
    "logging.basicConfig(level=logging.INFO, format='%(asctime)s - %(levelname)s - %(message)s')\n",
    "logger = logging.getLogger(\"root\")\n",
    "\n",
    "logger.info(f\"Working dir: {os.getcwd()}\")\n",
    "\n",
    "# merged_depth = get_multialign_regions(bam_file, target_region=\"smn_hg19.bed\")\n",
    "\n",
    "# # # This step creates selected_regions.json\n",
    "# bam_subset(bam_file, mq_cutoff = 20)"
   ]
  },
  {
   "cell_type": "markdown",
   "id": "4ff7f7a2-4b93-4edb-a32a-e0ec398b1718",
   "metadata": {},
   "source": [
    "## Test run"
   ]
  },
  {
   "cell_type": "code",
   "execution_count": 37,
   "id": "6fbf80dc-1955-4934-b24b-bfd667e92186",
   "metadata": {
    "tags": []
   },
   "outputs": [
    {
     "name": "stderr",
     "output_type": "stream",
     "text": [
      "/home/louisshe/work/SDrecall/build_sd.py:103: SettingWithCopyWarning: \n",
      "A value is trying to be set on a copy of a slice from a DataFrame.\n",
      "Try using .loc[row_indexer,col_indexer] = value instead\n",
      "\n",
      "See the caveats in the documentation: https://pandas.pydata.org/pandas-docs/stable/user_guide/indexing.html#returning-a-view-versus-a-copy\n",
      "  pnext_upstream[\"end_pos\"] = pnext_upstream[\"pnext\"] + pnext_upstream[\"tlen\"].abs()\n",
      "/home/louisshe/work/SDrecall/build_sd.py:104: SettingWithCopyWarning: \n",
      "A value is trying to be set on a copy of a slice from a DataFrame.\n",
      "Try using .loc[row_indexer,col_indexer] = value instead\n",
      "\n",
      "See the caveats in the documentation: https://pandas.pydata.org/pandas-docs/stable/user_guide/indexing.html#returning-a-view-versus-a-copy\n",
      "  pnext_downstream[\"end_pos\"] = pnext_downstream[\"pos\"] + pnext_downstream[\"tlen\"].abs()\n"
     ]
    }
   ],
   "source": [
    "df = pd.read_json(\"selected_regions.json\", lines=True)\n",
    "sd_map = build_sd_pairs(bam_file, confidence=0.95, threads=8, full=True)\n"
   ]
  },
  {
   "cell_type": "code",
   "execution_count": 65,
   "id": "593680ed-76e3-42e7-8115-ed26438764d6",
   "metadata": {
    "tags": []
   },
   "outputs": [
    {
     "name": "stderr",
     "output_type": "stream",
     "text": [
      "2024-01-17 11:53:52,078 - INFO - Total coverage of reference SD map = 132239799bp\n"
     ]
    },
    {
     "data": {
      "text/plain": [
       "<BedTool(/tmp/pbs.1411867.omics/pybedtools.2rmn8gxm.tmp)>"
      ]
     },
     "execution_count": 65,
     "metadata": {},
     "output_type": "execute_result"
    }
   ],
   "source": [
    "reference_map = \"WGAC.hg19.cigar.trimmed.homo.expanded.bed\"\n",
    "\n",
    "reference_sd, sd_map = pb.BedTool(reference_map).sort(), pb.BedTool.from_dataframe(sd_map).sort()\n",
    "logger.info(f\"Total coverage of reference SD map = {reference_sd.total_coverage()}bp\")\n"
   ]
  },
  {
   "cell_type": "code",
   "execution_count": 82,
   "id": "363866c4-5ee3-4eb0-846b-17d464564f81",
   "metadata": {
    "tags": []
   },
   "outputs": [],
   "source": [
    "overlapped_sd = reference_sd.intersect(sd_map, wo=True).to_dataframe(disable_auto_names=True,\n",
    "                                                    names = [\"chr_1\", \"start_1\", \"end_1\",\n",
    "                                                             \"chr_2\", \"start_2\", \"end_2\",\n",
    "                                                             \"strand1\", \"strand2\",\n",
    "                                                             \"cigar\", \"mismatch_rate\",\n",
    "                                                             \"chr_bam1\", \"start_bam1\", \"end_bam1\",\n",
    "                                                             \"chr_bam2\", \"start_bam2\", \"end_bam2\",\n",
    "                                                             \"overlap_len\"]) \\\n",
    "                                           .loc[:,[\"chr_1\", \"start_1\", \"end_1\", \"strand1\",\n",
    "                                                   \"chr_2\", \"start_2\", \"end_2\", \"strand2\",\n",
    "                                                   \"chr_bam1\", \"start_bam1\", \"end_bam1\"]] \\\n",
    "                                           .drop_duplicates().dropna()"
   ]
  },
  {
   "cell_type": "code",
   "execution_count": 83,
   "id": "07e38027-f546-4927-89c9-6309a653daa1",
   "metadata": {
    "tags": []
   },
   "outputs": [],
   "source": [
    "overlapped_sd.loc[(overlapped_sd[\"strand1\"] == \"-\") & (overlapped_sd[\"strand2\"] == \"-\"), [\"strand1\", \"strand2\"]] = \"+\""
   ]
  },
  {
   "cell_type": "code",
   "execution_count": 88,
   "id": "58edbc20-d145-4794-85e6-5b974938c979",
   "metadata": {
    "tags": []
   },
   "outputs": [
    {
     "name": "stdout",
     "output_type": "stream",
     "text": [
      "(4, 11)\n",
      "(6, 11)\n",
      "(4, 11)\n",
      "(4, 11)\n",
      "(4, 11)\n",
      "(4, 11)\n",
      "(4, 11)\n",
      "(4, 11)\n",
      "(4, 11)\n",
      "(4, 11)\n",
      "(4, 11)\n",
      "(4, 11)\n",
      "(4, 11)\n",
      "(6, 11)\n",
      "(5, 11)\n",
      "(6, 11)\n",
      "(4, 11)\n",
      "(4, 11)\n",
      "(4, 11)\n",
      "(4, 11)\n",
      "(4, 11)\n",
      "(4, 11)\n",
      "(4, 11)\n",
      "(4, 11)\n",
      "(4, 11)\n",
      "(4, 11)\n",
      "(1, 11)\n",
      "(1, 11)\n",
      "(1, 11)\n",
      "(1, 11)\n",
      "(1, 11)\n",
      "(1, 11)\n",
      "(1, 11)\n",
      "(1, 11)\n",
      "(3, 11)\n",
      "(3, 11)\n",
      "(3, 11)\n",
      "(4, 11)\n",
      "(4, 11)\n",
      "(4, 11)\n",
      "(3, 11)\n",
      "(3, 11)\n",
      "(3, 11)\n",
      "(4, 11)\n",
      "(5, 11)\n",
      "(3, 11)\n",
      "(2, 11)\n",
      "(2, 11)\n",
      "(2, 11)\n",
      "(2, 11)\n",
      "(2, 11)\n",
      "(2, 11)\n",
      "(2, 11)\n",
      "(2, 11)\n",
      "(2, 11)\n",
      "(2, 11)\n",
      "(1, 11)\n",
      "(1, 11)\n",
      "(1, 11)\n",
      "(1, 11)\n",
      "(1, 11)\n",
      "(2, 11)\n",
      "(2, 11)\n",
      "(3, 11)\n",
      "(3, 11)\n",
      "(3, 11)\n",
      "(3, 11)\n",
      "(3, 11)\n",
      "(3, 11)\n",
      "(3, 11)\n",
      "(3, 11)\n",
      "(3, 11)\n",
      "(3, 11)\n",
      "(3, 11)\n",
      "(4, 11)\n"
     ]
    }
   ],
   "source": [
    "for _, grp_df in overlapped_sd.groupby([\"chr_bam1\", \"start_bam1\", \"end_bam1\"], as_index=False):\n",
    "    print(grp_df.shape)\n",
    "    # sys.exit()"
   ]
  }
 ],
 "metadata": {
  "kernelspec": {
   "display_name": "Python 3 (ipykernel)",
   "language": "python",
   "name": "python3"
  },
  "language_info": {
   "codemirror_mode": {
    "name": "ipython",
    "version": 3
   },
   "file_extension": ".py",
   "mimetype": "text/x-python",
   "name": "python",
   "nbconvert_exporter": "python",
   "pygments_lexer": "ipython3",
   "version": "3.11.5"
  }
 },
 "nbformat": 4,
 "nbformat_minor": 5
}

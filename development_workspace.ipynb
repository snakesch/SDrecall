{
 "cells": [
  {
   "cell_type": "code",
   "execution_count": 21,
   "id": "3490303b-e435-4925-a587-c222fbdda0e1",
   "metadata": {
    "tags": []
   },
   "outputs": [],
   "source": [
    "import pysam\n",
    "import os\n",
    "import pandas as pd\n",
    "import numpy as np\n",
    "\n",
    "import pybedtools as pb\n",
    "\n",
    "bam_file = \"/home/louisshe/SDrecall_deprecated/data/test_bqsr_bam/HG002.bqsr.bam\"\n",
    "\n",
    "os.chdir(\"/home/louisshe/work/SDrecall/\")\n",
    "\n",
    "pybedtools.set_bedtools_path(\"/software/bedtools/2.30.0/bin\")"
   ]
  },
  {
   "cell_type": "code",
   "execution_count": 2,
   "id": "f7684727-befe-4f05-a977-613805735ec0",
   "metadata": {
    "tags": []
   },
   "outputs": [],
   "source": [
    "from multialign import get_multialign_regions\n",
    "\n",
    "merged_depth = get_multialign_regions(bamfp)"
   ]
  },
  {
   "cell_type": "code",
   "execution_count": 38,
   "id": "37e24273-0663-4663-833e-e8d68336cefa",
   "metadata": {
    "tags": []
   },
   "outputs": [
    {
     "name": "stdout",
     "output_type": "stream",
     "text": [
      "Time elapsed:  1.3335070610046387\n"
     ]
    }
   ],
   "source": [
    "import time\n",
    "\n",
    "selected_regions = pb.BedTool.from_dataframe(merged_depth.loc[:, [\"chr\", \"start\", \"end\"]]).merge()\n",
    "# selected_regions.to_dataframe()\n",
    "\n",
    "mq_cutoff = 20\n",
    "\n",
    "\n",
    "\n",
    "# bamfp = pysam.AlignmentFile(bam_file)\n",
    "\n",
    "# start = time.time()\n",
    "# multialign_qnames = set()\n",
    "# for interval in selected_regions:\n",
    "#     for read in bamfp.fetch(interval.chrom, interval.start, interval.end):\n",
    "#         if read.has_tag(\"SA\") and read.mapping_quality <= mq_cutoff + 10:\n",
    "#             multialign_qnames.add(read.query_name)\n",
    "# print(\"Time elapsed: \", time.time() - start)\n",
    "# bamfp.close()"
   ]
  },
  {
   "cell_type": "markdown",
   "id": "cd48f46e-3eec-4a7d-ad4f-91fe7767888b",
   "metadata": {
    "tags": []
   },
   "source": [
    "sd_map_str = main_parse_json_and_process(bam_json,\n",
    "                                             avg_frag_size=avg_frag_size,\n",
    "                                             std_frag_size=std_frag_size,\n",
    "                                             conf_level=conf_level,\n",
    "                                             threads=threads,\n",
    "                                             read_SD_extract=extract_read_SD)\n"
   ]
  },
  {
   "cell_type": "code",
   "execution_count": null,
   "id": "83cf6de5-348e-4dd5-9099-333da2734120",
   "metadata": {},
   "outputs": [],
   "source": [
    "def build_sd_pairs(bam_file, bam_json, confidence, threads, read_SD_extract):\n",
    "\n",
    "    from read_properties import get_fragment_dist\n",
    "    \n",
    "    avg_insert_size, std_insert_size = get_fragment_dist(bam_file)\n",
    "    \n",
    "    pass\n"
   ]
  },
  {
   "cell_type": "code",
   "execution_count": 4,
   "id": "92b02f49-ce5d-45bd-85bd-0538e8e9d784",
   "metadata": {
    "tags": []
   },
   "outputs": [],
   "source": [
    "# from read_properties import *\n",
    "\n",
    "logger.info(f\"Working dir: {os.abspath(__file__)}\")\n",
    "\n",
    "merged_depth = get_multialign_regions(bamfp)\n",
    "\n",
    "bam_subset(bam_file, mq_cutoff = 20)"
   ]
  }
 ],
 "metadata": {
  "kernelspec": {
   "display_name": "Python 3 (ipykernel)",
   "language": "python",
   "name": "python3"
  },
  "language_info": {
   "codemirror_mode": {
    "name": "ipython",
    "version": 3
   },
   "file_extension": ".py",
   "mimetype": "text/x-python",
   "name": "python",
   "nbconvert_exporter": "python",
   "pygments_lexer": "ipython3",
   "version": "3.11.5"
  }
 },
 "nbformat": 4,
 "nbformat_minor": 5
}
